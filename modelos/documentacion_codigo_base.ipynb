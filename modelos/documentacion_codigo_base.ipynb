{
  "cells": [
    {
      "cell_type": "markdown",
      "metadata": {
        "id": "aqvZnEuvTYWX"
      },
      "source": [
        "# Documentación de código Base\n",
        "\n",
        "__Este documento es creado para la comprensión de cada sección de código y posteriormente su depuración__\n",
        "\n",
        "__Creado por: Juan David Parra Cantor__\n",
        "Editado por DR\n"
      ]
    },
    {
      "cell_type": "markdown",
      "metadata": {
        "id": "w39ab6b_TYWd"
      },
      "source": [
        "__Nota Importante__: En la primera ejecución se presenta un error en la línea 170, Por una advertencia de Sintaxys\n",
        "\n",
        "__170: SyntaxWarning: invalid escape sequence '\\s'__\n",
        "    __plt.ylabel('$\\sigma_r$ [Pa]')__"
      ]
    },
    {
      "cell_type": "markdown",
      "metadata": {
        "id": "z2W_SA3HTYWe"
      },
      "source": [
        "Previo a está primera ejecución se revisa el código\n"
      ]
    },
    {
      "cell_type": "markdown",
      "metadata": {
        "id": "ZfUYF385TYWf"
      },
      "source": [
        "# Parte 1\n",
        "\n",
        "__Librerias__\n",
        "- numpy: para arreglos númericos\n",
        "- matplotlib: para graficos\n",
        "- scipy: para manejo de arreglos matriciales y soluciones\n",
        "\n"
      ]
    },
    {
      "cell_type": "code",
      "execution_count": null,
      "metadata": {
        "id": "IT8wMfKJTYWf"
      },
      "outputs": [],
      "source": [
        "import numpy as np\n",
        "import matplotlib.pyplot as plt\n",
        "from scipy.linalg import solve_banded"
      ]
    },
    {
      "cell_type": "markdown",
      "metadata": {
        "id": "EBIOHwZeTYWi"
      },
      "source": [
        "# Parte 2\n",
        "\n",
        "__valores constantes__\n",
        "\n",
        "- radio ext(Ro): 0.02 m = 2.0e-2 m\n",
        "- radio inter(Ri): $$Ro - (3.0e-3)$$\n",
        "    3.0e-3 = 3x10^(-3) = 0.003 m\n",
        "- Concentración inicial de Hidrogeno en radio interno = 0.1\n",
        "- Concentración inicial de Hidrogeno en radio externo = 0.0\n",
        "- Coeficiente de difusión(D) = 1.0e-8 [m^2/s]\n",
        "- Modulo de Young(E) = 10e9 [Pa]\n",
        "- Coeficiente de Poisson(nu) = 0.3\n",
        "- Concentración inicial de Hidrogeno en el centro(C0) = 0\n",
        "- Presión Interior(pin) = 400.0e3 [Pa]\n",
        "- Cantidad de nodos(n) = 2000\n",
        "- Distancia entre nodos(dr): $$dr = (Ro - Ri) / (n - 1)$$\n",
        "- segundos por hora(s) = 3600, __¿Cuál es la necesidad de poner el 60*60?\n",
        "- Tiempo de simluación(t_end) = 5 hrs\n",
        "- Paso del tiempo(nt) = 1000\n",
        "- diferencial de tiempo(dt): $$dt = t_end / (nt - 1)$$\n",
        "\n"
      ]
    },
    {
      "cell_type": "code",
      "execution_count": null,
      "metadata": {
        "id": "pX72nA1uTYWk"
      },
      "outputs": [],
      "source": [
        "Ro=2.0e-2\n",
        "Ri=Ro-3.0e-3\n",
        "Cin=0.1\n",
        "Cout=0.0\n",
        "D=1.0e-8\n",
        "E=10e9 #Pa\n",
        "nu=0.3\n",
        "Omega=5.0e-3\n",
        "C0=0.0\n",
        "pin=400.0e3 #Pa https://www.ugc.edu.co/pages/juridica/documentos/institucionales/NTC_2505_Instalaciones_Suministro_De_Gas.pdf\n",
        "n=2000 #nodes\n",
        "dr=(Ro-Ri)/(n-1)\n",
        "#dt=0.083\n",
        "#S=31536000 # seconds in a year\n",
        "S=60*60 # seconds per hour\n",
        "t_end=5.0\n",
        "#nt=int(t_end/dt)\n",
        "nt=1000\n",
        "dt=t_end/(nt-1)"
      ]
    },
    {
      "cell_type": "markdown",
      "metadata": {
        "id": "yYYvcaDNTYWm"
      },
      "source": [
        "# Parte 3\n",
        "\n",
        "__Creación de Matrices y vectores__\n",
        "\n",
        "- Vectores:\n",
        "    - *__cold__* almacena la concentracioón en cada nodo\n",
        "    - *__c__* almacena la concentración por nodo en paso de tiempo\n",
        "    - *__Disp__* almacena la deformación en cada nodo por paso de tiempo\n",
        "    - *__rhs__* alamacena término de la derecha de la ecuación de difusión\n",
        "    - *__rhsDisp__* almacena terminos de la derecha de la ecuación de deformación\n",
        "    - *__r__* Almacena coordenadas radiales para cada nodo\n",
        "    - *__t__* almacena los tiempos de simulación\n",
        "    - *__H, Hflux, HDisp, HStress_r, HStress_t, HStrain_r, y HStrain_t__* Almacenan los resultados de la simulación en cada nodo según el paso del tiempo\n",
        "\n",
        "- Matrices:\n",
        "    - *__sigma_r__* almacena la tención radial\n",
        "    - *__sigma_t__* almacena la tensión tangencial\n",
        "    - *__epsi_r__* almacena la deformación radial\n",
        "    - *__epsi_t__* almacena la deformación tangencial\n",
        "    - *__A__* almacena coeficiente de la ecuación de difusión\n",
        "    - *__ADisp__* almacena coeficiente de la ecuación de deformación\n",
        "\n"
      ]
    },
    {
      "cell_type": "code",
      "execution_count": null,
      "metadata": {
        "id": "PRE1xBCITYWn"
      },
      "outputs": [],
      "source": [
        "\n",
        "Cold=np.zeros(n)\n",
        "C=np.zeros(n)\n",
        "Disp=np.zeros(n)\n",
        "sigma_r=np.zeros(n)\n",
        "sigma_t=np.zeros(n)\n",
        "epsi_r=np.zeros(n)\n",
        "epsi_t=np.zeros(n)\n",
        "A=np.zeros((3,n))\n",
        "ADisp=np.zeros((5,n))\n",
        "rhs=np.zeros(n)\n",
        "rhsDisp=np.zeros(n)\n",
        "r=np.linspace(Ri,Ro,n)\n",
        "t=np.linspace(0,nt*dt,nt+1)\n",
        "H=np.zeros((n,nt+1))\n",
        "Cflux=np.zeros(n)\n",
        "Hflux=np.zeros((n,nt+1))\n",
        "HDisp=np.zeros((n,nt+1))\n",
        "HStress_r=np.zeros((n,nt+1))\n",
        "HStress_t=np.zeros((n,nt+1))\n",
        "HStrain_r=np.zeros((n,nt+1))\n",
        "HStrain_t=np.zeros((n,nt+1))"
      ]
    },
    {
      "cell_type": "markdown",
      "metadata": {
        "id": "iqB-A4c9TYWo"
      },
      "source": [
        "# Parte 4\n",
        "\n",
        "__Modelo de difusión__\n",
        "\n",
        "Es importante recordar la ecuación en coordendas cilindricas\n",
        "\n",
        "$$ \\frac{\\partial c}{\\partial t} = D \\nabla^2 C $$\n",
        "\n",
        "Donde C es la concentración, D es el coeficiente de difución  y $\\nabla^2$ es el operador laplaciano\n",
        "\n",
        "Posteriormente se construye la matriz *__A__*, la cual representa la ecuación de difusión, utilizando las condiciones iniciales y las de frontera\n",
        "\n",
        "__Modelo de deformación__\n",
        "\n",
        "Recordemos la ecuación de deformación en coordenadas cilíndricas\n",
        "\n",
        "$$ \\nabla^2u = \\frac{ (1 - v)}{ E * (1 + v)} * \\frac{\\partial^2 u}{\\partial^2 r} $$\n",
        "\n",
        "Donde U es la deformación, e el módulo de Young,m v es el coeficiente de Poisson en el ejercicio sería *__nu__*, y r es la coordenada radial\n",
        "\n",
        "Con base a esto se construye la matriz *__ADisp__*, que representa la ecuaciónd de deformación.\n",
        "\n",
        "Estás matrices tanto *__A__* como *__ADisp__*, son matrices creadas en el ciclo for para la las filas *i* en un rango de 1 hasta 2000 nodos menos 1"
      ]
    },
    {
      "cell_type": "code",
      "execution_count": null,
      "metadata": {
        "id": "pNamERHTTYWp"
      },
      "outputs": [],
      "source": [
        "# modelo de difusion y matrices para ambos problemas\n",
        "for i in range(1,n-1):\n",
        "    A[1+i-i,i]=-2*S*D/dr**2-1/dt\n",
        "    A[1+i-(i+1),i+1]=S*D/dr**2+S*D/(2*r[i]*dr)\n",
        "    A[1+i-(i-1),i-1]=S*D/dr**2-S*D/(2*r[i]*dr)\n",
        "    ADisp[2+i-(i+1),i+1]=1/dr**2+1/(2*r[i]*dr)\n",
        "    ADisp[2+i-(i-1),i-1]=1/dr**2-1/(2*r[i]*dr)\n",
        "    ADisp[2+i-i,i]=-2/dr**2-1./r[i]**2\n",
        "A[1+0-0,0]=1\n",
        "A[1+n-1-(n-1),n-1]=1\n",
        "ADisp[2+0-0,0]=-3*(nu-1.)/(2*dr)-nu/r[0]\n",
        "ADisp[2+0-1,1]=4*(nu-1.)/(2*dr)\n",
        "ADisp[2+0-2,2]=-(nu-1.)/(2*dr)\n",
        "ADisp[2+n-1-(n-3),n-3]=(nu-1.)/(2*dr)\n",
        "ADisp[2+n-1-(n-2),n-2]=-4*(nu-1.)/(2*dr)\n",
        "ADisp[2+n-1-(n-1),n-1]=3*(nu-1.)/(2*dr)-nu/r[n-1]"
      ]
    },
    {
      "cell_type": "markdown",
      "metadata": {
        "id": "VWapG26bTYWq"
      },
      "source": [
        "# Parte 5\n",
        "\n",
        "__Simulación en Bucle__\n",
        "\n",
        "Se utiliza un for que iterando en *nt* que sería el paso del tiempo, simula la evolución del sistema, siguiendo una serie de pasos, los cuales serán:\n",
        "\n",
        "- Cálculo de la concentración: Utilizando la ecuación de difusión, se calcula en cada nodo, según el salto de tiempo\n",
        "- Cálculo del flujo: Se utiliza la Ecuación de Fick para este calculo\n",
        "    - Ecuación de Fick:$$ J = - D * \\frac{\\partial C}{\\partial x} $$\n",
        "        - Donde:\n",
        "            - J es el flujo de difusión\n",
        "            - D es la difusividad\n",
        "            - C es la concentración\n",
        "            - x es la distancia en la dirección de la difusión en este caso la coordenada radial al cilindro\n",
        "        \n",
        "\n",
        "- Cálculo de la deformación: En este caso se aplica la ecuación  de deformación para el cálculo nodo a nodo\n",
        "- Cálculo de las tensiones y deformaciones: Cálculo de las tensiones y deformaciones tanto radiales y tangenciales\n"
      ]
    },
    {
      "cell_type": "code",
      "execution_count": null,
      "metadata": {
        "id": "3S9_T5IdTYWr"
      },
      "outputs": [],
      "source": [
        "for j in range(nt):\n",
        "    for i in range(1,n-1):\n",
        "        rhs[i]=-Cold[i]/dt\n",
        "    rhs[0]=Cin\n",
        "    rhs[n-1]=Cout\n",
        "    C=solve_banded((1,1),A,rhs)\n",
        "    for i in range(1,n-1): # post processing de flujos\n",
        "        Cflux[i]=-2.0*np.pi*r[i]*D*(C[i+1]-C[i-1])/(2*dr)\n",
        "    Cflux[0]=-2.0*np.pi*r[0]*D*(-3*C[0]+4*C[1]-C[2])/(2*dr)\n",
        "    Cflux[n-1]=-2.0*np.pi*r[n-1]*D*(3*C[n-1]-4*C[n-2]+C[n-3])/(2*dr)\n",
        "    H[:,j+1]=C\n",
        "    Hflux[:,j+1]=Cflux\n",
        "    Cold[:]=C"
      ]
    },
    {
      "cell_type": "markdown",
      "metadata": {
        "id": "wuOyN6-BTYWt"
      },
      "source": [
        "# Parte 6\n",
        "\n",
        "__Post-Procesamiento__\n",
        "\n",
        "*Cálculo del flujo*\n",
        "\n",
        "Se realiza un calculo del flujo total, tanto el de entrada como el de salida, basado en las siguentes ecuaciones:\n",
        "\n",
        "*__Flujo total de entrada__*\n",
        "\n",
        "$$\n",
        "\\text{tot\\_flux\\_in} += 0.5 \\left( H \\text{flux}[0,i] + H \\text{flux}[0,i+1] \\right) S \\, dt\n",
        "$$\n",
        "\n",
        "*__Flujo total de salida__*\n",
        "\n",
        "$$\n",
        "\\text{tot\\_flux\\_out} += 0.5 \\left( H \\text{flux}[n-1,i] + H \\text{flux}[n-1,i+1] \\right) S \\, dt\n",
        "$$\n",
        "\n"
      ]
    },
    {
      "cell_type": "code",
      "execution_count": null,
      "metadata": {
        "id": "vKmDQ6NbTYWu"
      },
      "outputs": [],
      "source": [
        "#post processing de flujos totales\n",
        "tot_flux_in=0\n",
        "tot_flux_out=0\n",
        "for i in range(nt):\n",
        "    tot_flux_in+=0.5*(Hflux[0,i]+Hflux[0,i+1])*S*dt\n",
        "    tot_flux_out+=0.5*(Hflux[n-1,i]+Hflux[n-1,i+1])*S*dt"
      ]
    },
    {
      "cell_type": "markdown",
      "metadata": {
        "id": "1tg0hxo2TYWv"
      },
      "source": [
        "# Parte 7\n",
        "\n",
        "__modelo de esfuerzos__\n",
        "\n",
        "Se calculan las deformaciones y esferuzos, teniendo en ceunta la carga interna y externa, de la siguiente manera:\n",
        "\n",
        "La ecuación de equilibrio para la deformación radial es:\n",
        "\n",
        "$$\\frac{d^2u}{dr^2} + \\frac{1}{r}\\frac{du}{dr} - \\frac{u}{r^2} = -\\frac{1+\\nu}{E}\\Omega C$$\n",
        "\n",
        "Donde $u$ es la deformación radial, $r$ es la posición radial, $\\nu$ es la razón de Poisson, $E$ es el módulo de Young, $\\Omega$ es una constante y $C$ es la concentración de especies químicas.\n",
        "\n",
        "__post-procesamiento__\n",
        "\n",
        "Una vez obtenida la solución mediante solve_banded (Matrices de banda), se calculan las deformaciones y esfuerzos en cada punto del dominio. Se definen las matrices HStress_r, HStress_t, HStrain_r y HStrain_t para almacenar los resultados."
      ]
    },
    {
      "cell_type": "code",
      "execution_count": null,
      "metadata": {
        "id": "6lYP7NSgTYWv"
      },
      "outputs": [],
      "source": [
        "# modelo de esfuerzos\n",
        "for j in range(nt+1):\n",
        "    C[:]=H[:,j]\n",
        "    for i in range(1,n-1):\n",
        "        rhsDisp[i]=-(1.0/3.0)*(Omega/(nu-1.0))*(C[i+1]-C[i-1])/(2.*dr)\n",
        "    rhsDisp[0]=-pin*(1.+nu)*(2*nu-1.)/E-(1./3.)*Omega*C[0]\n",
        "    rhsDisp[n-1]=-(1./3.)*Omega*C[n-1]\n",
        "    Disp=solve_banded((2,2),ADisp,rhsDisp)\n",
        "    HDisp[:,j]=Disp\n",
        "#post processing de stress and strain\n",
        "    epsi_t=Disp/r\n",
        "    for i in range(n):\n",
        "        if i>0 and i<n-1:\n",
        "            epsi_r[i]=(Disp[i+1]-Disp[i-1])/(2*dr)\n",
        "        if i==0:\n",
        "            epsi_r[i]=(-3*Disp[i]+4*Disp[i+1]-Disp[i+2] )/(2*dr)\n",
        "        if i==n-1:\n",
        "            epsi_r[i]=(3*Disp[i]-4*Disp[i-1]+Disp[i-2] )/(2*dr)\n",
        "        sigma_r[i]=(E/((1.+nu)*(2.*nu-1.)))*\\\n",
        "        ((nu-1.)*epsi_r[i]-nu*epsi_t[i]+(1./3.)*Omega*C[i])\n",
        "        sigma_t[i]=(E/((1.+nu)*(2.*nu-1.)))*\\\n",
        "        ((nu-1.)*epsi_t[i]-nu*epsi_r[i]+(1./3.)*Omega*C[i])\n",
        "    HStress_r[:,j]=sigma_r\n",
        "    HStress_t[:,j]=sigma_t\n",
        "    HStrain_r[:,j]=epsi_r\n",
        "    HStrain_t[:,j]=epsi_t"
      ]
    },
    {
      "cell_type": "markdown",
      "metadata": {
        "id": "HbndbsFwTYWw"
      },
      "source": [
        "# Parte 8\n",
        "\n",
        "__Graficos__\n"
      ]
    },
    {
      "cell_type": "markdown",
      "metadata": {
        "id": "ZpglB4kYTYWx"
      },
      "source": [
        "1. Concentración vs radio(r) para cada tiempo"
      ]
    },
    {
      "cell_type": "code",
      "execution_count": null,
      "metadata": {
        "id": "XhqrjHhrTYWx"
      },
      "outputs": [],
      "source": [
        "plt.figure()\n",
        "for i in range(0,nt+1,1):\n",
        "    plt.plot(r*1e3,H[:,i],label=f't={i*dt:.1f} years')\n",
        "plt.xlabel('r [mm]')\n",
        "plt.ylabel('C')\n",
        "plt.legend(loc='upper left', bbox_to_anchor=(1, 1))"
      ]
    },
    {
      "cell_type": "markdown",
      "metadata": {
        "id": "o56VlreATYWz"
      },
      "source": [
        "2. Concentración vs tiempo para cada radio"
      ]
    },
    {
      "cell_type": "code",
      "execution_count": null,
      "metadata": {
        "id": "ehaAJmOfTYW0"
      },
      "outputs": [],
      "source": [
        "plt.figure()\n",
        "for i in range(0,n,10):\n",
        "    plt.plot(t[:],H[i,:],label=f'r={i*dr*1e3:.1f} mm')\n",
        "plt.xlabel('t [years]')\n",
        "plt.ylabel('C')\n",
        "plt.legend(loc='upper left', bbox_to_anchor=(1, 1))\n"
      ]
    },
    {
      "cell_type": "markdown",
      "metadata": {
        "id": "gv7KEPnxTYW1"
      },
      "source": [
        "3. Flujo vs radio para cada tiempo"
      ]
    },
    {
      "cell_type": "code",
      "execution_count": null,
      "metadata": {
        "id": "1cOxz0ROTYW3"
      },
      "outputs": [],
      "source": [
        "plt.figure()\n",
        "for i in range(0,nt+1,1):\n",
        "    plt.plot(r*1e3,Hflux[:,i],label=f't={i*dt:.1f} years')\n",
        "plt.xlabel('r [mm]')\n",
        "plt.ylabel('Flux $m^3/s$')\n",
        "plt.legend(loc='upper left', bbox_to_anchor=(1, 1))"
      ]
    },
    {
      "cell_type": "markdown",
      "metadata": {
        "id": "_VmzdHKhTYW4"
      },
      "source": [
        "4. Flujo en radio interno y externo vs tiempo"
      ]
    },
    {
      "cell_type": "code",
      "execution_count": null,
      "metadata": {
        "id": "eEqJ4MI3TYW4"
      },
      "outputs": [],
      "source": [
        "plt.figure()\n",
        "plt.plot(t,Hflux[0,:],label=f'inner radius flow')\n",
        "plt.plot(t,Hflux[n-1,:],label=f'outer radius flow')\n",
        "plt.xlabel('t [years]')\n",
        "plt.ylabel('Flux $m^3/s$')\n",
        "plt.legend(loc='upper right')"
      ]
    },
    {
      "cell_type": "markdown",
      "metadata": {
        "id": "x_wj8C9_TYW5"
      },
      "source": [
        "5. Desplazamiento vertical vs radio para cada tiempo"
      ]
    },
    {
      "cell_type": "code",
      "execution_count": null,
      "metadata": {
        "id": "Y5AsByazTYW6"
      },
      "outputs": [],
      "source": [
        "plt.figure()\n",
        "for i in range(0,nt+1,20):\n",
        "    plt.plot(r*1e3,HDisp[:,i]*1e3,label=f't={i*dt:.1f} years')\n",
        "plt.xlabel('r [mm]')\n",
        "plt.ylabel('u [mm]')\n",
        "plt.legend(loc='upper left', bbox_to_anchor=(1, 1))"
      ]
    },
    {
      "cell_type": "markdown",
      "metadata": {
        "id": "w4tZF6UlTYW7"
      },
      "source": [
        "6. sigma_r vs radio para cada tiempo"
      ]
    },
    {
      "cell_type": "code",
      "execution_count": null,
      "metadata": {
        "id": "yH3hiOAbTYW8"
      },
      "outputs": [],
      "source": [
        "plt.figure()\n",
        "for i in range(0,nt+1,1):\n",
        "    plt.plot(r*1e3,HStress_r[:,i],label=f't={i*dt:.1f} years')\n",
        "plt.xlabel('r [mm]')\n",
        "plt.ylabel('$\\sigma_r$ [Pa]')\n",
        "plt.legend(loc='upper left', bbox_to_anchor=(1, 1))"
      ]
    },
    {
      "cell_type": "markdown",
      "metadata": {
        "id": "x62ovniOTYW8"
      },
      "source": [
        "7. sigma_t vs radio para cada tiempo"
      ]
    },
    {
      "cell_type": "code",
      "execution_count": null,
      "metadata": {
        "id": "4e37nGQ1TYW9"
      },
      "outputs": [],
      "source": [
        "plt.figure()\n",
        "for i in range(0,nt+1,1):\n",
        "    plt.plot(r*1e3,HStress_t[:,i],label=f't={i*dt:.1f} years')\n",
        "plt.xlabel('r [mm]')\n",
        "plt.ylabel(r'$\\sigma_\\theta$ [Pa]')\n",
        "#https://stackoverflow.com/questions/10370760/matplotlib-axis-label-theta-does-not-work-theta-does\n",
        "#If you specify that the string is raw text (a r before the quotation mark), it works\n",
        "plt.legend(loc='upper left', bbox_to_anchor=(1, 1))"
      ]
    },
    {
      "cell_type": "markdown",
      "metadata": {
        "id": "YMWMqGMnTYW-"
      },
      "source": [
        "8. epsilon_r vs radio para cada tiempo"
      ]
    },
    {
      "cell_type": "code",
      "execution_count": null,
      "metadata": {
        "id": "z7IZy_-QTYW-"
      },
      "outputs": [],
      "source": [
        "plt.figure()\n",
        "for i in range(0,nt+1,20):\n",
        "    plt.plot(r*1e3,HStrain_r[:,i],label=f't={i*dt:.1f} years')\n",
        "plt.xlabel('r [mm]')\n",
        "plt.ylabel(r'$\\epsilon_r$')\n",
        "plt.legend(loc='upper left', bbox_to_anchor=(1, 1))"
      ]
    },
    {
      "cell_type": "markdown",
      "metadata": {
        "id": "2JSVMlc_TYW_"
      },
      "source": [
        "9. epsilon_t vs radio para cada tiempo"
      ]
    },
    {
      "cell_type": "code",
      "execution_count": null,
      "metadata": {
        "id": "otSykBQHTYW_"
      },
      "outputs": [],
      "source": [
        "plt.figure()\n",
        "for i in range(0,nt+1,20):\n",
        "    plt.plot(r*1e3,HStrain_t[:,i],label=f't={i*dt:.1f} years')\n",
        "plt.xlabel('r [mm]')\n",
        "plt.ylabel(r'$\\epsilon_\\theta$')\n",
        "plt.legend(loc='upper left', bbox_to_anchor=(1, 1))"
      ]
    }
  ],
  "metadata": {
    "kernelspec": {
      "display_name": "Python 3",
      "language": "python",
      "name": "python3"
    },
    "language_info": {
      "codemirror_mode": {
        "name": "ipython",
        "version": 3
      },
      "file_extension": ".py",
      "mimetype": "text/x-python",
      "name": "python",
      "nbconvert_exporter": "python",
      "pygments_lexer": "ipython3",
      "version": "3.12.3"
    },
    "colab": {
      "provenance": []
    }
  },
  "nbformat": 4,
  "nbformat_minor": 0
}